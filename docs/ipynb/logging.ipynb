{
 "cells": [
  {
   "cell_type": "markdown",
   "id": "50e570cd",
   "metadata": {},
   "source": [
    "# Logging control\n",
    "Several of the different subpackages of Ubermag use logging to provide additional information if required. Each packages uses a logger with the name equal to the package name, e.g. `oommfc` has a logger called `oommfc`.\n",
    "\n",
    "In Python logging information is not show by default if the level is lower than warning (see https://docs.python.org/3/howto/logging.html).\n",
    "\n",
    "The `ubermag` metapackage contains a function `setup_logging` to controll logging for all its subpackages, providing two functionalities:\n",
    "\n",
    "1. Control over the log level of all Ubermag packages.\n",
    "2. Setup of a basic logging configuration to print logs to the screen."
   ]
  },
  {
   "cell_type": "code",
   "execution_count": 1,
   "id": "12fa65fd",
   "metadata": {},
   "outputs": [],
   "source": [
    "import ubermag"
   ]
  },
  {
   "cell_type": "markdown",
   "id": "88464680",
   "metadata": {},
   "source": [
    "We can change the log level in two different ways.\n",
    "\n",
    "1. We can set a default level for all packages by passing an argument to `level` (see [here](https://docs.python.org/3/library/logging.html#logging-levels) for available log levels)."
   ]
  },
  {
   "cell_type": "code",
   "execution_count": 2,
   "id": "f8cb08fe",
   "metadata": {},
   "outputs": [],
   "source": [
    "ubermag.setup_logging(level='DEBUG')"
   ]
  },
  {
   "cell_type": "markdown",
   "id": "94419ee6",
   "metadata": {},
   "source": [
    "The default value is `level='WARNING'`.\n",
    "\n",
    "2. We have fine-grain control over per-packages levels by passing a dictionary to `package_levels`. All subpackages not specified in this dictionary use the level passed to `level` (default `'WANRING'`)."
   ]
  },
  {
   "cell_type": "code",
   "execution_count": 3,
   "id": "eaa57219",
   "metadata": {},
   "outputs": [],
   "source": [
    "ubermag.setup_logging(package_levels={'discretisedfield': 'INFO', 'oommfc': 'DEBUG'})"
   ]
  },
  {
   "cell_type": "markdown",
   "id": "da4b4303",
   "metadata": {},
   "source": [
    "To show an example for this configuration, more precisely the log level `'DEBUG'` for `oommfc` we can import `oommfc` and ask `oommfc` to find the default runner (which includes several logging messages)."
   ]
  },
  {
   "cell_type": "code",
   "execution_count": 4,
   "id": "6cc7a60a",
   "metadata": {},
   "outputs": [
    {
     "name": "stderr",
     "output_type": "stream",
     "text": [
      "2021-08-27:11:17:31,429  oommfc:DEBUG  [/home/martin/PhD/repos/ubermag/oommfc/oommfc/oommf/oommf.py:autoselect_runner:449] Starting autoselect_runner: cache_runner=True, envvar=OOMMFTCL, oommf_exe=oommf, docker_exe=docker)\n",
      "2021-08-27:11:17:31,430  oommfc:DEBUG  [/home/martin/PhD/repos/ubermag/oommfc/oommfc/oommf/oommf.py:autoselect_runner:456] Step 1: Checking for the self.envvar=OOMMFTCL environment variable pointing to oommf.tcl.\n",
      "2021-08-27:11:17:31,430  oommfc:DEBUG  [/home/martin/PhD/repos/ubermag/oommfc/oommfc/oommf/oommf.py:autoselect_runner:481] Step 2: are we on Windows and oommf is installed via conda?\n",
      "2021-08-27:11:17:31,431  oommfc:DEBUG  [/home/martin/PhD/repos/ubermag/oommfc/oommfc/oommf/oommf.py:autoselect_runner:492] Step 3: is oommf_exe=oommf in PATH? Could be from conda env or manual install.\n",
      "2021-08-27:11:17:31,432  oommfc:DEBUG  [/home/martin/PhD/repos/ubermag/oommfc/oommfc/oommf/oommf.py:autoselect_runner:496] Ouput from \"which oommf_exe\"=/opt/miniconda3/envs/ubermag-dev/bin/oommf\n",
      "2021-08-27:11:17:31,432  oommfc:DEBUG  [/home/martin/PhD/repos/ubermag/oommfc/oommfc/oommf/oommf.py:autoselect_runner:502] Attempt command call\n",
      "2021-08-27:11:17:31,480  oommfc:DEBUG  [/home/martin/PhD/repos/ubermag/oommfc/oommfc/oommf/oommf.py:autoselect_runner:504] CompletedProcess(args=['/opt/miniconda3/envs/ubermag-dev/bin/oommf', 'boxsi', '+fg', '+version', '-exitondone', '1'], returncode=0, stdout=b'', stderr=b'<26954> oommf.tcl 2.0a1  info:\\noommf.tcl 2.0a1\\n')\n"
     ]
    }
   ],
   "source": [
    "import oommfc\n",
    "oommfc.runner.autoselect_runner()"
   ]
  },
  {
   "cell_type": "markdown",
   "id": "f271bb81",
   "metadata": {},
   "source": [
    "We can change the log level at every point of the notebook."
   ]
  },
  {
   "cell_type": "code",
   "execution_count": 5,
   "id": "cb1b2bb5",
   "metadata": {},
   "outputs": [],
   "source": [
    "ubermag.setup_logging(level='WARNING')\n",
    "oommfc.runner.autoselect_runner()"
   ]
  },
  {
   "cell_type": "code",
   "execution_count": 6,
   "id": "3e780118",
   "metadata": {},
   "outputs": [
    {
     "name": "stderr",
     "output_type": "stream",
     "text": [
      "2021-08-27:11:17:31,972  oommfc:DEBUG  [/home/martin/PhD/repos/ubermag/oommfc/oommfc/oommf/oommf.py:autoselect_runner:449] Starting autoselect_runner: cache_runner=True, envvar=OOMMFTCL, oommf_exe=oommf, docker_exe=docker)\n",
      "2021-08-27:11:17:31,973  oommfc:DEBUG  [/home/martin/PhD/repos/ubermag/oommfc/oommfc/oommf/oommf.py:autoselect_runner:456] Step 1: Checking for the self.envvar=OOMMFTCL environment variable pointing to oommf.tcl.\n",
      "2021-08-27:11:17:31,973  oommfc:DEBUG  [/home/martin/PhD/repos/ubermag/oommfc/oommfc/oommf/oommf.py:autoselect_runner:481] Step 2: are we on Windows and oommf is installed via conda?\n",
      "2021-08-27:11:17:31,974  oommfc:DEBUG  [/home/martin/PhD/repos/ubermag/oommfc/oommfc/oommf/oommf.py:autoselect_runner:492] Step 3: is oommf_exe=oommf in PATH? Could be from conda env or manual install.\n",
      "2021-08-27:11:17:31,975  oommfc:DEBUG  [/home/martin/PhD/repos/ubermag/oommfc/oommfc/oommf/oommf.py:autoselect_runner:496] Ouput from \"which oommf_exe\"=/opt/miniconda3/envs/ubermag-dev/bin/oommf\n",
      "2021-08-27:11:17:31,975  oommfc:DEBUG  [/home/martin/PhD/repos/ubermag/oommfc/oommfc/oommf/oommf.py:autoselect_runner:502] Attempt command call\n",
      "2021-08-27:11:17:32,13  oommfc:DEBUG  [/home/martin/PhD/repos/ubermag/oommfc/oommfc/oommf/oommf.py:autoselect_runner:504] CompletedProcess(args=['/opt/miniconda3/envs/ubermag-dev/bin/oommf', 'boxsi', '+fg', '+version', '-exitondone', '1'], returncode=0, stdout=b'', stderr=b'<26984> oommf.tcl 2.0a1  info:\\noommf.tcl 2.0a1\\n')\n"
     ]
    }
   ],
   "source": [
    "ubermag.setup_logging(level='DEBUG')\n",
    "oommfc.runner.autoselect_runner()"
   ]
  }
 ],
 "metadata": {
  "kernelspec": {
   "display_name": "Python 3",
   "language": "python",
   "name": "python3"
  },
  "language_info": {
   "codemirror_mode": {
    "name": "ipython",
    "version": 3
   },
   "file_extension": ".py",
   "mimetype": "text/x-python",
   "name": "python",
   "nbconvert_exporter": "python",
   "pygments_lexer": "ipython3",
   "version": "3.8.10"
  }
 },
 "nbformat": 4,
 "nbformat_minor": 5
}
