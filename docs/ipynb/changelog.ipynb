{
 "cells": [
  {
   "cell_type": "markdown",
   "metadata": {},
   "source": [
    "# Changelog\n",
    "\n",
    "## Upcoming version\n",
    "\n",
    "- Generalisation of OOMMF extensions `DMI_Cnv` and `DMI_D2d` to support grains oriented along `x`, `y`, or `z`\n",
    "\n",
    "## 0.5.1\n",
    "\n",
    "- New subpackage `discretisedfield.tools` containing functions to operate on `discretisedfield.Field` objects\n",
    "\n",
    "- New integration syntax"
   ]
  }
 ],
 "metadata": {
  "kernelspec": {
   "display_name": "Python 3",
   "language": "python",
   "name": "python3"
  },
  "language_info": {
   "codemirror_mode": {
    "name": "ipython",
    "version": 3
   },
   "file_extension": ".py",
   "mimetype": "text/x-python",
   "name": "python",
   "nbconvert_exporter": "python",
   "pygments_lexer": "ipython3",
   "version": "3.8.5"
  }
 },
 "nbformat": 4,
 "nbformat_minor": 4
}
