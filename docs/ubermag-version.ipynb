{
 "cells": [
  {
   "cell_type": "code",
   "execution_count": 1,
   "id": "b0c347de-cb57-476d-b893-10c541ba4210",
   "metadata": {},
   "outputs": [],
   "source": [
    "import ubermag"
   ]
  },
  {
   "cell_type": "code",
   "execution_count": 2,
   "id": "ca1ea197-c3f2-4217-8b58-20a913f5ad00",
   "metadata": {
    "tags": [
     "nbval-ignore-output"
    ]
   },
   "outputs": [
    {
     "data": {
      "text/plain": [
       "'0.63.0'"
      ]
     },
     "execution_count": 2,
     "metadata": {},
     "output_type": "execute_result"
    }
   ],
   "source": [
    "ubermag.__version__"
   ]
  }
 ],
 "metadata": {
  "kernelspec": {
   "display_name": "Python 3 (ipykernel)",
   "language": "python",
   "name": "python3"
  },
  "language_info": {
   "codemirror_mode": {
    "name": "ipython",
    "version": 3
   },
   "file_extension": ".py",
   "mimetype": "text/x-python",
   "name": "python",
   "nbconvert_exporter": "python",
   "pygments_lexer": "ipython3",
   "version": "3.8.13"
  }
 },
 "nbformat": 4,
 "nbformat_minor": 5
}
