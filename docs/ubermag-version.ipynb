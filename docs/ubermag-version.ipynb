{
 "cells": [
  {
   "cell_type": "code",
   "execution_count": 1,
   "id": "b0c347de-cb57-476d-b893-10c541ba4210",
   "metadata": {},
   "outputs": [],
   "source": [
    "import ubermag"
   ]
  },
  {
   "cell_type": "code",
   "execution_count": 2,
   "id": "ca1ea197-c3f2-4217-8b58-20a913f5ad00",
   "metadata": {
    "tags": [
     "nbval-ignore-output"
    ]
   },
   "outputs": [
    {
     "data": {
      "text/plain": [
       "'0.66.0'"
      ]
     },
     "execution_count": 2,
     "metadata": {},
     "output_type": "execute_result"
    }
   ],
   "source": [
    "ubermag.__version__"
   ]
  },
  {
   "cell_type": "code",
   "execution_count": 3,
   "id": "93451866-9b32-4718-9b8b-2d7b2427b7f5",
   "metadata": {
    "tags": [
     "nbval-ignore-output"
    ]
   },
   "outputs": [
    {
     "name": "stdout",
     "output_type": "stream",
     "text": [
      "Platform: linux\n",
      "Python: 3.8.13 | packaged by conda-forge | (default, Mar 25 2022, 06:04:18) \n",
      "[GCC 10.3.0]\n",
      "\n",
      "ubermagutil: 0.63.1\n",
      "discretisedfield: 0.65.0\n",
      "ubermagtable: 0.61.2\n",
      "micromagneticmodel: 0.63.1\n",
      "micromagneticdata: 0.65.0\n",
      "micromagnetictests: 0.63.0\n",
      "mumax3c: 0.1\n",
      "oommfc: 0.64.0\n",
      "mag2exp: 0.62.1\n",
      "ubermag: 0.66.0\n",
      "\n",
      "OOMMF: ExeOOMMFRunner(/home/mlang/miniconda3/envs/ubermagdev/bin/oommf), 2.0a3\n",
      "Mumax3: Mumax3 cannot be found. Mumax3 does not come automatically with Ubermag. Make sure it is properly installed and can be found on the command line.\n",
      "\n"
     ]
    }
   ],
   "source": [
    "print(ubermag.debug_info())"
   ]
  }
 ],
 "metadata": {
  "kernelspec": {
   "display_name": "Python 3 (ipykernel)",
   "language": "python",
   "name": "python3"
  },
  "language_info": {
   "codemirror_mode": {
    "name": "ipython",
    "version": 3
   },
   "file_extension": ".py",
   "mimetype": "text/x-python",
   "name": "python",
   "nbconvert_exporter": "python",
   "pygments_lexer": "ipython3",
   "version": "3.8.13"
  }
 },
 "nbformat": 4,
 "nbformat_minor": 5
}
