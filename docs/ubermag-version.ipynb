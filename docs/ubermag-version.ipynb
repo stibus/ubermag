{
 "cells": [
  {
   "cell_type": "markdown",
   "id": "8a69da71-1a20-4ad1-95f5-6e7411c62a26",
   "metadata": {
    "editable": true,
    "slideshow": {
     "slide_type": ""
    },
    "tags": []
   },
   "source": [
    "# Collecting debug information\n",
    "\n",
    "The `ubermag` metapackage contains a utility function `debug_info` to collect information about the Ubermag installation."
   ]
  },
  {
   "cell_type": "code",
   "execution_count": 1,
   "id": "b0c347de-cb57-476d-b893-10c541ba4210",
   "metadata": {
    "editable": true,
    "slideshow": {
     "slide_type": ""
    },
    "tags": []
   },
   "outputs": [],
   "source": [
    "import ubermag"
   ]
  },
  {
   "cell_type": "code",
   "execution_count": 2,
   "id": "ca1ea197-c3f2-4217-8b58-20a913f5ad00",
   "metadata": {
    "editable": true,
    "slideshow": {
     "slide_type": ""
    },
    "tags": [
     "nbval-ignore-output"
    ]
   },
   "outputs": [
    {
     "data": {
      "text/plain": [
       "'2023.10'"
      ]
     },
     "execution_count": 2,
     "metadata": {},
     "output_type": "execute_result"
    }
   ],
   "source": [
    "ubermag.__version__"
   ]
  },
  {
   "cell_type": "code",
   "execution_count": 3,
   "id": "93451866-9b32-4718-9b8b-2d7b2427b7f5",
   "metadata": {
    "editable": true,
    "slideshow": {
     "slide_type": ""
    },
    "tags": [
     "nbval-ignore-output"
    ]
   },
   "outputs": [
    {
     "name": "stdout",
     "output_type": "stream",
     "text": [
      "Platform: linux\n",
      "Python: 3.10.12 | packaged by conda-forge | (main, Jun 23 2023, 22:40:32) [GCC 12.3.0]\n",
      "\n",
      "ubermagutil: 0.63.2\n",
      "discretisedfield: 0.90.0\n",
      "ubermagtable: 0.61.3\n",
      "micromagneticmodel: 0.63.2\n",
      "micromagneticdata: 0.65.1\n",
      "micromagnetictests: 0.63.1\n",
      "mumax3c: 0.2.0\n",
      "oommfc: 0.64.1\n",
      "mag2exp: 0.62.2\n",
      "ubermag: 2023.10\n",
      "\n",
      "OOMMF: ExeOOMMFRunner(/home/mlang/miniconda3/envs/ubermagdev310/bin/oommf), 2.0b0\n",
      "Mumax3: Mumax3 cannot be found. Mumax3 does not come automatically with Ubermag. Make sure it is properly installed and can be found on the command line.\n",
      "\n"
     ]
    }
   ],
   "source": [
    "print(ubermag.debug_info())"
   ]
  }
 ],
 "metadata": {
  "kernelspec": {
   "display_name": "Python 3 (ipykernel)",
   "language": "python",
   "name": "python3"
  },
  "language_info": {
   "codemirror_mode": {
    "name": "ipython",
    "version": 3
   },
   "file_extension": ".py",
   "mimetype": "text/x-python",
   "name": "python",
   "nbconvert_exporter": "python",
   "pygments_lexer": "ipython3",
   "version": "3.10.12"
  }
 },
 "nbformat": 4,
 "nbformat_minor": 5
}
